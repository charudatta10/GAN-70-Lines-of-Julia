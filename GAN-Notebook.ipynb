{
 "cells": [
  {
   "cell_type": "markdown",
   "metadata": {},
   "source": [
    "# GAN-70-Lines-of-Julia  \n",
    "This notebook is a demonstration for a simple GAN training on MNIST by using Julia. It will highlight how one can program a machine learning model in Julia as if just writing a paper. Let's get started!"
   ]
  },
  {
   "cell_type": "markdown",
   "metadata": {},
   "source": [
    "## Setup\n",
    "We will use the deep learning package Knet.jl to compute gradients for the networks and use GPU arrays if a gpu device is available."
   ]
  },
  {
   "cell_type": "code",
   "execution_count": 58,
   "metadata": {},
   "outputs": [
    {
     "name": "stderr",
     "output_type": "stream",
     "text": [
      "┌ Warning: `Pkg.dir(pkgname, paths...)` is deprecated; instead, do `import Knet; joinpath(dirname(pathof(Knet)), \"..\", paths...)`.\n",
      "└ @ Pkg.API /Users/osx/buildbot/slave/package_osx64/build/usr/share/julia/stdlib/v1.0/Pkg/src/API.jl:454\n"
     ]
    },
    {
     "data": {
      "text/plain": [
       "Array{Float32,N} where N"
      ]
     },
     "execution_count": 58,
     "metadata": {},
     "output_type": "execute_result"
    }
   ],
   "source": [
    "using Pkg; for p in (\"Knet\",\"Colors\",\"Images\"); haskey(Pkg.installed(),p) || Pkg.add(p); end\n",
    "using Knet, Colors, Images, Statistics\n",
    "include(Pkg.dir(\"Knet\",\"data\",\"mnist.jl\")) #MNIST data loader functions\n",
    "global atype = gpu() >= 0 ? KnetArray{Float32} : Array{Float32}"
   ]
  },
  {
   "cell_type": "markdown",
   "metadata": {},
   "source": [
    "## MLP Model  \n",
    "Both for Generator and Discriminator, generic multilayer perceptrons are needed. $\\mathbf{w}$ is an array that keeps the model paramaters and $\\mathbf{x}$ is the input. Keyword argument $\\mathbf{p}$ is the dropout probability, `activation` is the activation function used in the hidden layers, and `outputactivation` is the activation function used in the output layer. We also define `elu` activation function."
   ]
  },
  {
   "cell_type": "code",
   "execution_count": 59,
   "metadata": {},
   "outputs": [
    {
     "data": {
      "text/plain": [
       "mlp (generic function with 1 method)"
      ]
     },
     "execution_count": 59,
     "metadata": {},
     "output_type": "execute_result"
    }
   ],
   "source": [
    "function mlp(w,x;p=0.0,activation=elu,outputactivation=sigm)\n",
    "    for i=1:2:length(w)\n",
    "        x = w[i]*dropout(mat(x),p) .+ w[i+1] # mat() used for flattening images to a vector.\n",
    "        i<length(w)-1 && (x = activation.(x)) \n",
    "    end\n",
    "    return outputactivation.(x) #output layer\n",
    "end"
   ]
  },
  {
   "cell_type": "markdown",
   "metadata": {},
   "source": [
    "## Discriminator and Generator Networks\n",
    "\n",
    "Discriminator and Generator networks are defined as `D` and `G` respectively. Loss functions `𝑱d` and `𝑱g` are defined according to the equation X in GAN paper. Sample noise function `𝒩` is a normal distribution. Loss functions are defined according to the equations in Algorithm 1 section of the [paper](https://arxiv.org/abs/1406.2661 \"arXiv\"). We use a slightly modified generator loss according to [GAN tricks](https://github.com/soumith/ganhacks#2-a-modified-loss-function \"GAN Tricks\").\n",
    "$$ J_d = -\\frac{1}{m} \\sum_{i=1}^{m} log(D(x^{(i)}) + log(1-D(G(z^{(i)})))$$\n",
    "$$ J_g = -\\frac{1}{m} \\sum_{i=1}^{m} log(D(G(z^{(i)}))) $$ \n",
    "\n",
    "*`𝜀` is used to prevent log functions from resulting NaN values.\n"
   ]
  },
  {
   "cell_type": "code",
   "execution_count": 66,
   "metadata": {},
   "outputs": [
    {
     "data": {
      "text/plain": [
       "𝒩 (generic function with 1 method)"
      ]
     },
     "execution_count": 66,
     "metadata": {},
     "output_type": "execute_result"
    }
   ],
   "source": [
    "global const 𝜀=Float32(1e-8)\n",
    "D(w,x;p=0.0) = mlp(w,x;p=p)\n",
    "G(w,z;p=0.0) = mlp(w,z;p=p) \n",
    "𝑱d(𝗪d,x,Gz) = -mean(log.(D(𝗪d,x) .+ 𝜀)+log.((1+𝜀) .- D(𝗪d,Gz)))/2   \n",
    "𝑱g(𝗪g, 𝗪d, z) = -mean(log.(D(𝗪d,G(𝗪g,z)) .+ 𝜀))           \n",
    "𝒩(input, batch) = atype(randn(Float32, input, batch))  #SampleNoise"
   ]
  },
  {
   "cell_type": "markdown",
   "metadata": {},
   "source": [
    "## Gradient Functions\n",
    "\n",
    "For backpropogation, we need the derivatives of loss functions according to the model parameters. This is where Knet comes to the scene. The `Knet.grad` function calculates gradient according to the first parameter of any function. So,"
   ]
  },
  {
   "cell_type": "code",
   "execution_count": 67,
   "metadata": {},
   "outputs": [
    {
     "data": {
      "text/plain": [
       "(::getfield(AutoGrad, Symbol(\"#gradfun#6\")){getfield(AutoGrad, Symbol(\"##gradfun#4#5\")){typeof(𝑱g),Int64,Bool}}) (generic function with 1 method)"
      ]
     },
     "execution_count": 67,
     "metadata": {},
     "output_type": "execute_result"
    }
   ],
   "source": [
    "∇d  = grad(𝑱d) # Discriminator gradient\n",
    "∇g  = grad(𝑱g) # Generator gradient"
   ]
  },
  {
   "cell_type": "markdown",
   "metadata": {},
   "source": [
    "## Parameter Initialization\n",
    "It is a generic weight initialization function for MLPs. For each layer, it creates a weight matrix and bias vector, then add them to $W$. "
   ]
  },
  {
   "cell_type": "code",
   "execution_count": 68,
   "metadata": {},
   "outputs": [
    {
     "data": {
      "text/plain": [
       "initweights (generic function with 1 method)"
      ]
     },
     "execution_count": 68,
     "metadata": {},
     "output_type": "execute_result"
    }
   ],
   "source": [
    "function initweights(hidden,input, output)\n",
    "    𝗪 = Any[];\n",
    "    x = input\n",
    "    for h in [hidden... output]\n",
    "        push!(𝗪, atype(xavier(h,x)), atype(zeros(h, 1))) #FC Layers weights and bias\n",
    "        x = h\n",
    "    end\n",
    "    return 𝗪  #return model params\n",
    "end"
   ]
  },
  {
   "cell_type": "markdown",
   "metadata": {},
   "source": [
    "## Generate and Display\n",
    "\n",
    "This function generates a random `number` of images and displays them."
   ]
  },
  {
   "cell_type": "code",
   "execution_count": 69,
   "metadata": {},
   "outputs": [
    {
     "data": {
      "text/plain": [
       "generate_and_show (generic function with 1 method)"
      ]
     },
     "execution_count": 69,
     "metadata": {},
     "output_type": "execute_result"
    }
   ],
   "source": [
    "function generate_and_show(𝗪,number,𝞗)\n",
    "    Gz    = Array(G(𝗪[1], 𝒩(𝞗[:ginp], number))) .> 0.5\n",
    "    Gz    = reshape(Gz, (28, 28, number))\n",
    "    L     = floor(Int, sqrt(number))\n",
    "    grid  = []\n",
    "    for i = 1:L:number\n",
    "        push!(grid, reshape(permutedims(Gz[:,:,i:i+L-1], (2,3,1)), (L*28,28)))\n",
    "    end\n",
    "    display(Gray.(hcat(grid...)))\n",
    "end"
   ]
  },
  {
   "cell_type": "markdown",
   "metadata": {},
   "source": [
    "## Train & Test Function\n",
    "\n",
    "This `runmodel` function is implementing training procedure described in GAN paper. It first update discriminator with specified optimizer, then update generator network. Same function can be used in test mode by passing `train` argument as false. In the test mode it calculates losses instead of gradients."
   ]
  },
  {
   "cell_type": "code",
   "execution_count": 70,
   "metadata": {},
   "outputs": [
    {
     "data": {
      "text/plain": [
       "runmodel (generic function with 1 method)"
      ]
     },
     "execution_count": 70,
     "metadata": {},
     "output_type": "execute_result"
    }
   ],
   "source": [
    "function runmodel(𝗪, data, 𝞗; dtst=nothing, optim=nothing, train=false, saveinterval=20)\n",
    "    gloss = dloss = total=0.0;\n",
    "    B = 𝞗[:batchsize]\n",
    "    for i=1:(train ? 𝞗[:epochs] : 1)\n",
    "        for (x,_) in data\n",
    "            total+=2B\n",
    "            Gz = G(𝗪[1], 𝒩(𝞗[:ginp], B)) #Generate Fake Images\n",
    "            train ? update!(𝗪[2], ∇d(𝗪[2],x,Gz), optim[2]) : (dloss += 2B*𝑱d(𝗪[2], x, Gz))\n",
    "            \n",
    "            z=𝒩(𝞗[:ginp],2B) #Sample z from Noise\n",
    "            train ? update!(𝗪[1], ∇g(𝗪[1], 𝗪[2], z), optim[1]) : (gloss += 2B*𝑱g(𝗪[1],𝗪[2],z))       \n",
    "        end\n",
    "        train ? runmodel(𝗪, dtst, 𝞗; train=false) : println((gloss/total, dloss/total))\n",
    "        i % saveinterval == 0 && generate_and_show(𝗪, 100, 𝞗)  # save 10 images\n",
    "    end\n",
    "end"
   ]
  },
  {
   "cell_type": "markdown",
   "metadata": {},
   "source": [
    "## Run\n",
    "We will train our model 80 epochs and display resulted images in each 20 epoch. The log format here is (generator loss, discriminator loss)."
   ]
  },
  {
   "cell_type": "code",
   "execution_count": 71,
   "metadata": {},
   "outputs": [
    {
     "data": {
      "image/png": "[encoded data removed]",
      "text/plain": [
       "280×280 Array{Gray{Bool},2} with eltype Gray{Bool}:\n",
       " Gray{Bool}(true)   Gray{Bool}(true)   …  Gray{Bool}(true) \n",
       " Gray{Bool}(true)   Gray{Bool}(true)      Gray{Bool}(false)\n",
       " Gray{Bool}(true)   Gray{Bool}(false)     Gray{Bool}(true) \n",
       " Gray{Bool}(true)   Gray{Bool}(false)     Gray{Bool}(false)\n",
       " Gray{Bool}(true)   Gray{Bool}(false)     Gray{Bool}(true) \n",
       " Gray{Bool}(true)   Gray{Bool}(false)  …  Gray{Bool}(true) \n",
       " Gray{Bool}(true)   Gray{Bool}(false)     Gray{Bool}(false)\n",
       " Gray{Bool}(false)  Gray{Bool}(true)      Gray{Bool}(false)\n",
       " Gray{Bool}(false)  Gray{Bool}(true)      Gray{Bool}(false)\n",
       " Gray{Bool}(false)  Gray{Bool}(false)     Gray{Bool}(false)\n",
       " Gray{Bool}(false)  Gray{Bool}(false)  …  Gray{Bool}(true) \n",
       " Gray{Bool}(true)   Gray{Bool}(false)     Gray{Bool}(false)\n",
       " Gray{Bool}(true)   Gray{Bool}(false)     Gray{Bool}(false)\n",
       " ⋮                                     ⋱                   \n",
       " Gray{Bool}(false)  Gray{Bool}(false)     Gray{Bool}(true) \n",
       " Gray{Bool}(false)  Gray{Bool}(true)      Gray{Bool}(false)\n",
       " Gray{Bool}(true)   Gray{Bool}(false)  …  Gray{Bool}(false)\n",
       " Gray{Bool}(true)   Gray{Bool}(true)      Gray{Bool}(true) \n",
       " Gray{Bool}(true)   Gray{Bool}(true)      Gray{Bool}(true) \n",
       " Gray{Bool}(true)   Gray{Bool}(true)      Gray{Bool}(true) \n",
       " Gray{Bool}(true)   Gray{Bool}(false)     Gray{Bool}(true) \n",
       " Gray{Bool}(true)   Gray{Bool}(true)   …  Gray{Bool}(true) \n",
       " Gray{Bool}(true)   Gray{Bool}(false)     Gray{Bool}(true) \n",
       " Gray{Bool}(false)  Gray{Bool}(false)     Gray{Bool}(true) \n",
       " Gray{Bool}(false)  Gray{Bool}(false)     Gray{Bool}(true) \n",
       " Gray{Bool}(false)  Gray{Bool}(false)     Gray{Bool}(false)"
      ]
     },
     "metadata": {},
     "output_type": "display_data"
    },
    {
     "name": "stdout",
     "output_type": "stream",
     "text": [
      "(0.964181468463861, 0.6261569328415089)\n",
      "(2.8460408051808677, 0.10484407961559601)\n",
      "(2.720964103172987, 0.36418946178104633)\n"
     ]
    },
    {
     "ename": "InterruptException",
     "evalue": "InterruptException:",
     "output_type": "error",
     "traceback": [
      "InterruptException:",
      "",
      "Stacktrace:",
      " [1] materialize at ./boot.jl:396 [inlined]",
      " [2] broadcast(::typeof(/), ::Array{Float32,2}, ::Float64) at ./broadcast.jl:702",
      " [3] /(::Array{Float32,2}, ::Float64) at ./arraymath.jl:55",
      " [4] update!(::Array{Float32,2}, ::Array{Float32,2}, ::Adam) at /Users/ekin/.julia/packages/Knet/QWB1W/src/update.jl:390",
      " [5] update!(::Array{Any,1}, ::Array{Any,1}, ::Array{Adam,1}) at /Users/ekin/.julia/packages/Knet/QWB1W/src/update.jl:444",
      " [6] #runmodel#46(::Data, ::Tuple{Array{Adam,1},Array{Adam,1}}, ::Bool, ::Int64, ::Function, ::Tuple{Array{Any,1},Array{Any,1}}, ::Data, ::Dict{Symbol,Any}) at ./In[70]:8",
      " [7] (::getfield(Main, Symbol(\"#kw##runmodel\")))(::NamedTuple{(:optim, :train, :dtst),Tuple{Tuple{Array{Adam,1},Array{Adam,1}},Bool,Data}}, ::typeof(runmodel), ::Tuple{Array{Any,1},Array{Any,1}}, ::Data, ::Dict{Symbol,Any}) at ./none:0",
      " [8] top-level scope at In[71]:9"
     ]
    }
   ],
   "source": [
    "𝞗=Dict(:batchsize=>32,:epochs=>80,:ginp=>256,:genh=>[512],:disch=>[512],:optim=>Adam,:lr=>0.0002);\n",
    "xtrn,ytrn,xtst,ytst = mnist()\n",
    "global dtrn = minibatch(xtrn, ytrn, 𝞗[:batchsize]; xtype=atype)\n",
    "global dtst = minibatch(xtst, ytst, 𝞗[:batchsize]; xtype=atype)\n",
    "𝗪  = (𝗪g,𝗪d)  = initweights(𝞗[:genh], 𝞗[:ginp], 784), initweights(𝞗[:disch], 784, 1)\n",
    "𝚶  = (𝚶pg,𝚶pd) = optimizers(𝗪g, 𝞗[:optim]; lr=𝞗[:lr]), optimizers(𝗪d,𝞗[:optim]; lr=𝞗[:lr])\n",
    "generate_and_show(𝗪,100,𝞗)\n",
    "runmodel(𝗪, dtst, 𝞗; optim=𝚶, train=false) # initial losses\n",
    "runmodel(𝗪, dtrn, 𝞗; optim=𝚶, train=true, dtst=dtst) # training  "
   ]
  }
 ],
 "metadata": {
  "kernelspec": {
   "display_name": "Julia 1.0.0",
   "language": "julia",
   "name": "julia-1.0"
  },
  "language_info": {
   "file_extension": ".jl",
   "mimetype": "application/julia",
   "name": "julia",
   "version": "1.0.0"
  }
 },
 "nbformat": 4,
 "nbformat_minor": 2
}
